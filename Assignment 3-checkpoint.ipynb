{
 "cells": [
  {
   "cell_type": "code",
   "execution_count": 1,
   "id": "e0cd61e5",
   "metadata": {},
   "outputs": [
    {
     "name": "stdout",
     "output_type": "stream",
     "text": [
      "azhar\n"
     ]
    }
   ],
   "source": [
    "print(\"azhar\");\n"
   ]
  },
  {
   "cell_type": "code",
   "execution_count": 2,
   "id": "a0d02f3f",
   "metadata": {},
   "outputs": [
    {
     "name": "stdout",
     "output_type": "stream",
     "text": [
      "Twinkle, twinkle, little star, \n",
      "\tHow I wonder what you are! \n",
      "\t\tUp above the world so high, \n",
      "\t\tLike a diamond in the sky. \n",
      "Twinkle, twinkle, little star, \n",
      "\tHow I wonder what you are!\n"
     ]
    }
   ],
   "source": [
    "print(\"Twinkle, twinkle, little star, \\n\\tHow I wonder what you are! \\n\\t\\tUp above the world so high, \\n\\t\\tLike a diamond in the sky. \\nTwinkle, twinkle, little star, \\n\\tHow I wonder what you are!\")\n"
   ]
  },
  {
   "cell_type": "code",
   "execution_count": 3,
   "id": "5dfd870f",
   "metadata": {},
   "outputs": [
    {
     "name": "stdout",
     "output_type": "stream",
     "text": [
      "Python version\n",
      "3.8.8 (default, Apr 13 2021, 15:08:03) [MSC v.1916 64 bit (AMD64)]\n",
      "Version info.\n",
      "sys.version_info(major=3, minor=8, micro=8, releaselevel='final', serial=0)\n"
     ]
    }
   ],
   "source": [
    "import sys\n",
    "print(\"Python version\")\n",
    "print (sys.version)\n",
    "print(\"Version info.\")\n",
    "print (sys.version_info)\n"
   ]
  },
  {
   "cell_type": "code",
   "execution_count": 4,
   "id": "63c89117",
   "metadata": {},
   "outputs": [
    {
     "name": "stdout",
     "output_type": "stream",
     "text": [
      "Current date and time is: \n",
      "2021-10-24 02:29:03\n"
     ]
    }
   ],
   "source": [
    "import datetime\n",
    "current = datetime.datetime.now()\n",
    "print (\"Current date and time is: \")\n",
    "print (current.strftime(\"%Y-%m-%d %H:%M:%S\"))\n",
    "\n"
   ]
  },
  {
   "cell_type": "code",
   "execution_count": 9,
   "id": "ee9b700f",
   "metadata": {},
   "outputs": [
    {
     "name": "stdout",
     "output_type": "stream",
     "text": [
      "Enter the radius of the circle : 2.2\n",
      "The area of the circle with radius 2.2 is: 15.205308443374602\n"
     ]
    }
   ],
   "source": [
    "from math import pi\n",
    "r = float(input (\"Enter the radius of the circle : \"))\n",
    "print (\"The area of the circle with radius \" + str(r) + \" is: \" + str(pi * r**2))\n",
    "#in above line we typecast r and p*r**2 in string for concatination purpose.\n"
   ]
  },
  {
   "cell_type": "code",
   "execution_count": 10,
   "id": "c9f2b5a9",
   "metadata": {},
   "outputs": [
    {
     "name": "stdout",
     "output_type": "stream",
     "text": [
      "Enter your First Name : Muhammad\n",
      "Enter your Last Name : Azhar\n",
      "Azhar Muhammad\n"
     ]
    }
   ],
   "source": [
    "fname = input(\"Enter your First Name : \")\n",
    "lname = input(\"Enter your Last Name : \")\n",
    "print (lname + \" \" + fname)\n"
   ]
  },
  {
   "cell_type": "code",
   "execution_count": 11,
   "id": "63bea762",
   "metadata": {},
   "outputs": [
    {
     "name": "stdout",
     "output_type": "stream",
     "text": [
      "enter first number : 4\n",
      "enter second number : 6\n",
      "sum of 4 and 6 is 10\n"
     ]
    }
   ],
   "source": [
    "a=int(input(\"enter first number : \"))\n",
    "\n",
    "b=int(input(\"enter second number : \"))\n",
    "\n",
    "print(\"sum of\",a, \"and\",b,\"is\",a+b)"
   ]
  },
  {
   "cell_type": "code",
   "execution_count": 13,
   "id": "c3105fef",
   "metadata": {},
   "outputs": [
    {
     "name": "stdout",
     "output_type": "stream",
     "text": [
      "Enter marks of the first subject: 56\n",
      "Enter marks of the second subject: 65\n",
      "Enter marks of the third subject: 67\n",
      "Enter marks of the fourth subject: 76\n",
      "Enter marks of the fifth subject: 89\n",
      "Grade: D\n"
     ]
    }
   ],
   "source": [
    "sub1=int(input(\"Enter marks of the first subject: \"))\n",
    "sub2=int(input(\"Enter marks of the second subject: \"))\n",
    "sub3=int(input(\"Enter marks of the third subject: \"))\n",
    "sub4=int(input(\"Enter marks of the fourth subject: \"))\n",
    "sub5=int(input(\"Enter marks of the fifth subject: \"))\n",
    "avg=(sub1+sub2+sub3+sub4+sub4)/5\n",
    "if(avg>100 or avg<0):\n",
    "    print(\"Invalid Entry\")\n",
    "elif(avg>=90):\n",
    "    print(\"Grade: A\")\n",
    "elif(avg>=80 and avg<90):\n",
    "    print(\"Grade: B\")\n",
    "elif(avg>=70 and avg<80):\n",
    "    print(\"Grade: C\")\n",
    "elif(avg>=60 and avg<70):\n",
    "    print(\"Grade: D\")\n",
    "else:\n",
    "    print(\"Grade: F\")"
   ]
  },
  {
   "cell_type": "code",
   "execution_count": 14,
   "id": "5fb0aa02",
   "metadata": {},
   "outputs": [
    {
     "name": "stdout",
     "output_type": "stream",
     "text": [
      "Enter a number: 5\n",
      "This is an odd number.\n"
     ]
    }
   ],
   "source": [
    "num = int(input(\"Enter a number: \"))\n",
    "mod = num % 2\n",
    "if mod > 0:\n",
    "    print(\"This is an odd number.\")\n",
    "else:\n",
    "    print(\"This is an even number.\")"
   ]
  },
  {
   "cell_type": "code",
   "execution_count": 15,
   "id": "5f1d7b26",
   "metadata": {},
   "outputs": [
    {
     "name": "stdout",
     "output_type": "stream",
     "text": [
      "Length of the list is 5\n"
     ]
    }
   ],
   "source": [
    "inp_lst = ['Python','Java','Kotlin','Machine Learning','Keras']\n",
    "size = len(inp_lst)\n",
    "print(\"Length of the list is \"+str(size));"
   ]
  },
  {
   "cell_type": "code",
   "execution_count": 31,
   "id": "4d014108",
   "metadata": {},
   "outputs": [
    {
     "name": "stdout",
     "output_type": "stream",
     "text": [
      "27\n"
     ]
    }
   ],
   "source": [
    "list = [\"apple\",5,7, \"banana\",6, \"cherry\",3,6]\n",
    "sum=0;\n",
    "for x in list:\n",
    "    if(type(x)==int):\n",
    "        sum+=x;\n",
    "        \n",
    "print(sum)\n",
    "\n"
   ]
  },
  {
   "cell_type": "code",
   "execution_count": 32,
   "id": "a957f45d",
   "metadata": {},
   "outputs": [
    {
     "name": "stdout",
     "output_type": "stream",
     "text": [
      "Largest element is: 99\n"
     ]
    }
   ],
   "source": [
    "list1 = [10, 20, 4, 45, 99]\n",
    "print(\"Largest element is:\", max(list1))"
   ]
  },
  {
   "cell_type": "code",
   "execution_count": 33,
   "id": "6a7076f9",
   "metadata": {},
   "outputs": [
    {
     "name": "stdout",
     "output_type": "stream",
     "text": [
      "1\n",
      "1\n",
      "2\n",
      "3\n"
     ]
    }
   ],
   "source": [
    "a = [1, 1, 2, 3, 5, 8, 13, 21, 34, 55, 89]\n",
    "for i in a:\n",
    "    if(i<5):\n",
    "        print(i);"
   ]
  },
  {
   "cell_type": "code",
   "execution_count": null,
   "id": "e27f305b",
   "metadata": {},
   "outputs": [],
   "source": []
  }
 ],
 "metadata": {
  "kernelspec": {
   "display_name": "Python 3",
   "language": "python",
   "name": "python3"
  },
  "language_info": {
   "codemirror_mode": {
    "name": "ipython",
    "version": 3
   },
   "file_extension": ".py",
   "mimetype": "text/x-python",
   "name": "python",
   "nbconvert_exporter": "python",
   "pygments_lexer": "ipython3",
   "version": "3.8.8"
  }
 },
 "nbformat": 4,
 "nbformat_minor": 5
}
